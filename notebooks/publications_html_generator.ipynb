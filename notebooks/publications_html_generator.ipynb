{
  "nbformat": 4,
  "nbformat_minor": 0,
  "metadata": {
    "colab": {
      "provenance": []
    },
    "kernelspec": {
      "name": "python3",
      "display_name": "Python 3"
    },
    "language_info": {
      "name": "python"
    }
  },
  "cells": [
    {
      "cell_type": "markdown",
      "source": [
        "# Publications using HTML for completed projects "
      ],
      "metadata": {
        "id": "WwFgGFguRCc1"
      }
    },
    {
      "cell_type": "code",
      "source": [
        "# Enter URL and Reference\n",
        "# url = ['https://openaccess.thecvf.com/content_ECCV_2018/html/Bowen_Cheng_Revisiting_RCNN_On_ECCV_2018_paper.html',\n",
        "#        'https://openaccess.thecvf.com/content_ECCV_2018/html/Bowen_Cheng_Revisiting_RCNN_On_ECCV_2018_paper.html'\n",
        "#       ]\n",
        "\n",
        "# ref = ['Sun, Xudong, Pengcheng Wu, and Steven CH Hoi. \"Face detection using deep learning: An improved faster RCNN approach.\" Neurocomputing 299 (2018): 42-50',\n",
        "#        'Sun, Xudong, Pengcheng Wu, and Steven CH Hoi. \"Face detection using deep learning: An improved faster RCNN approach.\" Neurocomputing 299 (2018): 42-50'\n",
        "#       ]\n",
        "\n",
        "#Proactive project under Pepijn which is finished.\n",
        "\n",
        "url = ['https://onlinelibrary.wiley.com/doi/10.1002/gps.5665',\n",
        "       \"https://onlinelibrary.wiley.com/doi/10.1002/gps.5665\",\n",
        "       \"https://bmcpublichealth.biomedcentral.com/articles/10.1186/s12889-021-12402-3\",\n",
        "       \"https://trialsjournal.biomedcentral.com/articles/10.1186/s13063-020-04826-w\",\n",
        "       \"https://bmcpublichealth.biomedcentral.com/articles/10.1186/s12889-019-7495-5\",\n",
        "       \"https://www.jmir.org/2019/11/e11346/\",\n",
        "      ]\n",
        "\n",
        "ref = ['Scazufca, M., Nakamura, C.A., Seward, N., Moreno-Agostino, D., Van de Ven P., Hollingworth, W., Peters, T. and Araya, R. (2022) A task-shared, collaborative care psychosocial intervention for improving depressive symptomatology among older adults in a socioeconomically deprived area of Brazil (PROACTIVE): a pragmatic, two-arm, parallel-group, cluster-randomised controlled trial, The Lancet Health Longevity, Volume 3, Issue 10, E690-E720 ',\n",
        "       \"Nakamura, C.A., Scazufca, M., Peters, T.J., Fajersztajn, L., Van de Ven, P., Hollingworth, W., Araya, R. and Moreno-Agostino, D. (2021) 'Depressive and subthreshold depressive symptomatology among older adults in a socioeconomically deprived area in Brazil', International Journal of Geriatric Psychiatry \",\n",
        "        \"Henrique, M.G., De Paula Couto, M.C.P., Araya, R., Mendes, A.V., Nakamura, C.A., Hollingworth, W., Van De Ven, P., Peters, T.J. and Scazufca, M. (2021) 'Acceptability and fidelity of a psychosocial intervention (PROACTIVE) for older adults with depression in a basic health unit in São Paulo, Brazil: a qualitative study', BMC public health, 21(1) \",\n",
        "       \"Scazufca, M., Nakamura, C.A., Peters, T.J., Henrique, M.G., Seabra, A., La Rotta, E.G., Franzin, R.M., Martins, D.F., Van de Ven, P., Hollingworth, W. and Araya, R. (2020) 'A collaborative care psychosocial intervention to improve late life depression in socioeconomically deprived areas of Guarulhos, Brazil: the PROACTIVE cluster randomised controlled trial protocol', Trials, 21(1), 1-14. \",\n",
        "       \"Scazufca, M., de Paula Couto, M.C.P., Henrique, M.G., Mendes, A.V., Matijasevich, A., Pereda, P.C., Franzin, R.M., Seabra, A.C., Van De Ven, P., Hollingworth, W. and Araya, R. (2019) 'Pilot study of a two-arm non-randomized controlled cluster trial of a psychosocial intervention to improve late life depression in socioeconomically deprived areas of São Paulo, Brazil (PROACTIVE): feasibility study of a psychosocial intervention for late life depression in São Paulo', BMC public health, 19(1), 1-14. \",\n",
        "       \"Van de Ven, P., Araya, R., de Paula Couto, M.C.P., Henrique, M.G., Meere, D., Mendes, A.V., Peters, T.J., Seabra, A., Franzin, R.M. and Pereda, P.C. (2019) 'Investigating software requirements for systems supporting task-shifted interventions: usability study', Journal of medical Internet research, 21(11), e11346. \"\n",
        "      ]"
      ],
      "metadata": {
        "id": "ffFRAC9XQ4la"
      },
      "execution_count": 2,
      "outputs": []
    },
    {
      "cell_type": "code",
      "source": [
        "# Outputed html in list format \n",
        "\n",
        "for i in range(len(url)):\n",
        "  \n",
        "  # Output current url and reference\n",
        "  output = f'<li style=\"font-size:15px\"><a href =\"{url[i]}\" > {ref[i]} </a> </li>'\n",
        "\n",
        "  # Print out the output to copy and past\n",
        "  print(output)\n",
        "\n",
        "  # Add some space between citations\n",
        "  print(\"\\n<p>\")\n",
        "\n",
        "  # Put space between entries\n",
        "  print(\"\\n\")"
      ],
      "metadata": {
        "colab": {
          "base_uri": "https://localhost:8080/"
        },
        "id": "jZvSy8fpQ6oN",
        "outputId": "f5bf6b51-e7b8-4a9e-a5b8-db7e4af8fe5a"
      },
      "execution_count": 3,
      "outputs": [
        {
          "output_type": "stream",
          "name": "stdout",
          "text": [
            "<li style=\"font-size:15px\"><a href =\"https://onlinelibrary.wiley.com/doi/10.1002/gps.5665\" > Scazufca, M., Nakamura, C.A., Seward, N., Moreno-Agostino, D., Van de Ven P., Hollingworth, W., Peters, T. and Araya, R. (2022) A task-shared, collaborative care psychosocial intervention for improving depressive symptomatology among older adults in a socioeconomically deprived area of Brazil (PROACTIVE): a pragmatic, two-arm, parallel-group, cluster-randomised controlled trial, The Lancet Health Longevity, Volume 3, Issue 10, E690-E720  </a> </li>\n",
            "\n",
            "<p>\n",
            "\n",
            "\n",
            "<li style=\"font-size:15px\"><a href =\"https://onlinelibrary.wiley.com/doi/10.1002/gps.5665\" > Nakamura, C.A., Scazufca, M., Peters, T.J., Fajersztajn, L., Van de Ven, P., Hollingworth, W., Araya, R. and Moreno-Agostino, D. (2021) 'Depressive and subthreshold depressive symptomatology among older adults in a socioeconomically deprived area in Brazil', International Journal of Geriatric Psychiatry  </a> </li>\n",
            "\n",
            "<p>\n",
            "\n",
            "\n",
            "<li style=\"font-size:15px\"><a href =\"https://bmcpublichealth.biomedcentral.com/articles/10.1186/s12889-021-12402-3\" > Henrique, M.G., De Paula Couto, M.C.P., Araya, R., Mendes, A.V., Nakamura, C.A., Hollingworth, W., Van De Ven, P., Peters, T.J. and Scazufca, M. (2021) 'Acceptability and fidelity of a psychosocial intervention (PROACTIVE) for older adults with depression in a basic health unit in São Paulo, Brazil: a qualitative study', BMC public health, 21(1)  </a> </li>\n",
            "\n",
            "<p>\n",
            "\n",
            "\n",
            "<li style=\"font-size:15px\"><a href =\"https://trialsjournal.biomedcentral.com/articles/10.1186/s13063-020-04826-w\" > Scazufca, M., Nakamura, C.A., Peters, T.J., Henrique, M.G., Seabra, A., La Rotta, E.G., Franzin, R.M., Martins, D.F., Van de Ven, P., Hollingworth, W. and Araya, R. (2020) 'A collaborative care psychosocial intervention to improve late life depression in socioeconomically deprived areas of Guarulhos, Brazil: the PROACTIVE cluster randomised controlled trial protocol', Trials, 21(1), 1-14.  </a> </li>\n",
            "\n",
            "<p>\n",
            "\n",
            "\n",
            "<li style=\"font-size:15px\"><a href =\"https://bmcpublichealth.biomedcentral.com/articles/10.1186/s12889-019-7495-5\" > Scazufca, M., de Paula Couto, M.C.P., Henrique, M.G., Mendes, A.V., Matijasevich, A., Pereda, P.C., Franzin, R.M., Seabra, A.C., Van De Ven, P., Hollingworth, W. and Araya, R. (2019) 'Pilot study of a two-arm non-randomized controlled cluster trial of a psychosocial intervention to improve late life depression in socioeconomically deprived areas of São Paulo, Brazil (PROACTIVE): feasibility study of a psychosocial intervention for late life depression in São Paulo', BMC public health, 19(1), 1-14.  </a> </li>\n",
            "\n",
            "<p>\n",
            "\n",
            "\n",
            "<li style=\"font-size:15px\"><a href =\"https://www.jmir.org/2019/11/e11346/\" > Van de Ven, P., Araya, R., de Paula Couto, M.C.P., Henrique, M.G., Meere, D., Mendes, A.V., Peters, T.J., Seabra, A., Franzin, R.M. and Pereda, P.C. (2019) 'Investigating software requirements for systems supporting task-shifted interventions: usability study', Journal of medical Internet research, 21(11), e11346.  </a> </li>\n",
            "\n",
            "<p>\n",
            "\n",
            "\n"
          ]
        }
      ]
    },
    {
      "cell_type": "markdown",
      "source": [
        "copy and paste into the required project.md"
      ],
      "metadata": {
        "id": "sIcGD04tRL7z"
      }
    }
  ]
}
